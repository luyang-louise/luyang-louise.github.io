{
 "cells": [
  {
   "cell_type": "code",
   "execution_count": 11,
   "id": "51013137",
   "metadata": {},
   "outputs": [],
   "source": [
    "import requests\n",
    "from bs4 import BeautifulSoup"
   ]
  },
  {
   "cell_type": "code",
   "execution_count": 12,
   "id": "cb83194f",
   "metadata": {},
   "outputs": [
    {
     "data": {
      "text/html": [
       "<iframe frameborder=\"no\" border=\"0\" marginwidth=\"0\" marginheight=\"0\" \n",
       "    width=900 height=600 \n",
       "    src=\"http://hprc.cssn.cn/wxzl/wxysl/lczf/\">\n",
       "</iframe>\n"
      ],
      "text/plain": [
       "<IPython.core.display.HTML object>"
      ]
     },
     "metadata": {},
     "output_type": "display_data"
    }
   ],
   "source": [
    "%%html\n",
    "<iframe frameborder=\"no\" border=\"0\" marginwidth=\"0\" marginheight=\"0\" \n",
    "    width=900 height=600 \n",
    "    src=\"http://hprc.cssn.cn/wxzl/wxysl/lczf/\">\n",
    "</iframe>"
   ]
  },
  {
   "cell_type": "code",
   "execution_count": 13,
   "id": "c12c3ce5",
   "metadata": {},
   "outputs": [
    {
     "data": {
      "text/plain": [
       "'ISO-8859-1'"
      ]
     },
     "execution_count": 13,
     "metadata": {},
     "output_type": "execute_result"
    }
   ],
   "source": [
    "# get the link for each year\n",
    "url = \"http://hprc.cssn.cn/wxzl/wxysl/lczf/\" \n",
    "content = requests.get(url)\n",
    "content.encoding"
   ]
  },
  {
   "cell_type": "code",
   "execution_count": null,
   "id": "2f7adb4b",
   "metadata": {},
   "outputs": [],
   "source": [
    "# Specify the encoding\n",
    "content.encoding = 'utf8' # 'gb18030'\n",
    "content = content.text"
   ]
  },
  {
   "cell_type": "code",
   "execution_count": 17,
   "id": "89ab496d",
   "metadata": {},
   "outputs": [
    {
     "name": "stdout",
     "output_type": "stream",
     "text": [
      "<a href=\"./dssjqgrmdbdh_1/202103/t20210316_5318622.html\" target=\"_blank\" title=\"2021骞存斂搴滃伐浣滄姤鍛�\">2021骞存斂搴滃伐浣滄姤鍛�</a>\n"
     ]
    }
   ],
   "source": [
    "soup = BeautifulSoup(content, 'html.parser') \n",
    "# links = soup.find_all('td', {'class', 'bl'})   \n",
    "links = soup.select('.bl a')\n",
    "print(links[0])"
   ]
  },
  {
   "cell_type": "code",
   "execution_count": 18,
   "id": "2130c4a3",
   "metadata": {},
   "outputs": [
    {
     "data": {
      "text/plain": [
       "52"
      ]
     },
     "execution_count": 18,
     "metadata": {},
     "output_type": "execute_result"
    }
   ],
   "source": [
    "len(links)"
   ]
  },
  {
   "cell_type": "code",
   "execution_count": 19,
   "id": "7125cf8a",
   "metadata": {},
   "outputs": [
    {
     "data": {
      "text/plain": [
       "'./dishiyijie_10/200908/t20090818_3955459.html'"
      ]
     },
     "execution_count": 19,
     "metadata": {},
     "output_type": "execute_result"
    }
   ],
   "source": [
    "links[-1]['href']"
   ]
  },
  {
   "cell_type": "code",
   "execution_count": 20,
   "id": "8133d616",
   "metadata": {},
   "outputs": [
    {
     "data": {
      "text/plain": [
       "'dssjqgrmdbdh_1/202103/t20210316_5318622.html'"
      ]
     },
     "execution_count": 20,
     "metadata": {},
     "output_type": "execute_result"
    }
   ],
   "source": [
    "links[0]['href'].split('./')[1]"
   ]
  },
  {
   "cell_type": "code",
   "execution_count": 21,
   "id": "69e7b320",
   "metadata": {},
   "outputs": [
    {
     "data": {
      "text/plain": [
       "'http://hprc.cssn.cn/wxzl/wxysl/lczf/dssjqgrmdbdh_1/202103/t20210316_5318622.html'"
      ]
     },
     "execution_count": 21,
     "metadata": {},
     "output_type": "execute_result"
    }
   ],
   "source": [
    "url + links[0]['href'].split('./')[1]"
   ]
  },
  {
   "cell_type": "code",
   "execution_count": 22,
   "id": "6cfd947c",
   "metadata": {},
   "outputs": [
    {
     "data": {
      "text/plain": [
       "['http://hprc.cssn.cn/wxzl/wxysl/lczf/dssjqgrmdbdh_1/202103/t20210316_5318622.html',\n",
       " 'http://hprc.cssn.cn/wxzl/wxysl/lczf/dssjqgrmdbdh_1/202006/t20200604_5138985.html',\n",
       " 'http://hprc.cssn.cn/wxzl/wxysl/lczf/dssjqgrmdbdh_1/201903/t20190318_4849567.html',\n",
       " 'http://hprc.cssn.cn/wxzl/wxysl/lczf/dssjqgrmdbdh_1/201803/t20180323_4240852.html',\n",
       " 'http://hprc.cssn.cn/wxzl/wxysl/lczf/d12qgrdzfbg/201703/t20170317_4144138.html']"
      ]
     },
     "execution_count": 22,
     "metadata": {},
     "output_type": "execute_result"
    }
   ],
   "source": [
    "hyperlinks = [url + i['href'].split('./')[1] for i in links]\n",
    "hyperlinks[:5]"
   ]
  },
  {
   "cell_type": "code",
   "execution_count": 25,
   "id": "7ac7618c",
   "metadata": {},
   "outputs": [],
   "source": [
    "import sys\n",
    "def flushPrint(s):\n",
    "    sys.stdout.write('\\r')\n",
    "    sys.stdout.write('%s' % s)\n",
    "    sys.stdout.flush()\n",
    "    \n",
    "def crawler(url_i):\n",
    "    content = requests.get(url_i)\n",
    "    content.encoding = 'utf8'  \n",
    "    content = content.text\n",
    "    soup = BeautifulSoup(content, 'html.parser') \n",
    "    year = soup.find('span', {'class', 'huang16c'}).text[:4]\n",
    "    year = int(year)\n",
    "    report = ''.join(s.text for s in soup('p'))\n",
    "    # 找到分页信息\n",
    "    scripts = soup.find_all('script')\n",
    "    countPage = int(''.join(scripts[1]).split('countPage = ')[1].split('//')[0])\n",
    "    if countPage == 1:\n",
    "        pass\n",
    "    else:\n",
    "        for i in range(1, countPage):\n",
    "            url_child = url_i.split('.html')[0] +'_'+str(i)+'.html'\n",
    "            content = requests.get(url_child)\n",
    "            content.encoding = 'gb18030'\n",
    "            content = content.text\n",
    "            soup = BeautifulSoup(content, 'html.parser') \n",
    "            report_child = ''.join(s.text for s in soup('p'))\n",
    "            report = report + report_child\n",
    "    return year, report"
   ]
  },
  {
   "cell_type": "code",
   "execution_count": 26,
   "id": "58553a37",
   "metadata": {},
   "outputs": [
    {
     "name": "stdout",
     "output_type": "stream",
     "text": [
      "1954"
     ]
    }
   ],
   "source": [
    "# 抓取52年政府工作报告内容\n",
    "reports = {}\n",
    "for link in hyperlinks:\n",
    "    year, report = crawler(link)\n",
    "    flushPrint(year)\n",
    "    reports[year] = report "
   ]
  },
  {
   "cell_type": "code",
   "execution_count": 31,
   "id": "60d759c8",
   "metadata": {},
   "outputs": [],
   "source": [
    "with open('/Users/laoke/Desktop/研究生-好好学习/大数据挖掘/作业四：抓取政府工作报告/政府工作报告.txt', 'w', encoding = 'utf8') as f:\n",
    "    for r in reports:\n",
    "        line = str(r)+'\\t'+reports[r].replace('\\n', '\\t') +'\\n'\n",
    "        f.write(line)"
   ]
  },
  {
   "cell_type": "code",
   "execution_count": 32,
   "id": "a0007ab8",
   "metadata": {},
   "outputs": [],
   "source": [
    "import pandas as pd\n",
    "\n",
    "df = pd.read_table('/Users/laoke/Desktop/研究生-好好学习/大数据挖掘/作业四：抓取政府工作报告/政府工作报告.txt', names = ['year', 'report'])"
   ]
  },
  {
   "cell_type": "code",
   "execution_count": 29,
   "id": "514ee876",
   "metadata": {},
   "outputs": [
    {
     "data": {
      "text/html": [
       "<div>\n",
       "<style scoped>\n",
       "    .dataframe tbody tr th:only-of-type {\n",
       "        vertical-align: middle;\n",
       "    }\n",
       "\n",
       "    .dataframe tbody tr th {\n",
       "        vertical-align: top;\n",
       "    }\n",
       "\n",
       "    .dataframe thead th {\n",
       "        text-align: right;\n",
       "    }\n",
       "</style>\n",
       "<table border=\"1\" class=\"dataframe\">\n",
       "  <thead>\n",
       "    <tr style=\"text-align: right;\">\n",
       "      <th></th>\n",
       "      <th>year</th>\n",
       "      <th>report</th>\n",
       "    </tr>\n",
       "  </thead>\n",
       "  <tbody>\n",
       "    <tr>\n",
       "      <th>0</th>\n",
       "      <td>2021</td>\n",
       "      <td>各位代表：　　现在，我代表国务院，向大会报告政府工作，请予审议，并请全国政协委员提出意见。　...</td>\n",
       "    </tr>\n",
       "    <tr>\n",
       "      <th>1</th>\n",
       "      <td>2020</td>\n",
       "      <td>新华社北京5月29日电　　政府工作报告　　——2020年5月22日在第十三届全国人民代表...</td>\n",
       "    </tr>\n",
       "    <tr>\n",
       "      <th>2</th>\n",
       "      <td>2019</td>\n",
       "      <td>新华社北京3月16日电　　 政府工作报告　　——2019年3月5日在第十三届全国人民代表...</td>\n",
       "    </tr>\n",
       "    <tr>\n",
       "      <th>3</th>\n",
       "      <td>2018</td>\n",
       "      <td>各位代表：　　现在，我代表国务院，向大会报告过去五年政府工作，对今年工作提出建议，请予审...</td>\n",
       "    </tr>\n",
       "    <tr>\n",
       "      <th>4</th>\n",
       "      <td>2017</td>\n",
       "      <td>各位代表：　　现在，我代表国务院，向大会报告政府工作，请予审议，并请全国政协各位委员提出...</td>\n",
       "    </tr>\n",
       "  </tbody>\n",
       "</table>\n",
       "</div>"
      ],
      "text/plain": [
       "   year                                             report\n",
       "0  2021  各位代表：　　现在，我代表国务院，向大会报告政府工作，请予审议，并请全国政协委员提出意见。　...\n",
       "1  2020  　　新华社北京5月29日电　　政府工作报告　　——2020年5月22日在第十三届全国人民代表...\n",
       "2  2019  　　新华社北京3月16日电　　 政府工作报告　　——2019年3月5日在第十三届全国人民代表...\n",
       "3  2018  　　各位代表：　　现在，我代表国务院，向大会报告过去五年政府工作，对今年工作提出建议，请予审...\n",
       "4  2017  　　各位代表：　　现在，我代表国务院，向大会报告政府工作，请予审议，并请全国政协各位委员提出..."
      ]
     },
     "execution_count": 29,
     "metadata": {},
     "output_type": "execute_result"
    }
   ],
   "source": [
    "df[:5]"
   ]
  },
  {
   "cell_type": "code",
   "execution_count": 30,
   "id": "bda95ff8",
   "metadata": {},
   "outputs": [
    {
     "data": {
      "text/html": [
       "<div>\n",
       "<style scoped>\n",
       "    .dataframe tbody tr th:only-of-type {\n",
       "        vertical-align: middle;\n",
       "    }\n",
       "\n",
       "    .dataframe tbody tr th {\n",
       "        vertical-align: top;\n",
       "    }\n",
       "\n",
       "    .dataframe thead th {\n",
       "        text-align: right;\n",
       "    }\n",
       "</style>\n",
       "<table border=\"1\" class=\"dataframe\">\n",
       "  <thead>\n",
       "    <tr style=\"text-align: right;\">\n",
       "      <th></th>\n",
       "      <th>year</th>\n",
       "      <th>report</th>\n",
       "    </tr>\n",
       "  </thead>\n",
       "  <tbody>\n",
       "    <tr>\n",
       "      <th>0</th>\n",
       "      <td>2021</td>\n",
       "      <td>各位代表：　　现在，我代表国务院，向大会报告政府工作，请予审议，并请全国政协委员提出意见。　...</td>\n",
       "    </tr>\n",
       "    <tr>\n",
       "      <th>1</th>\n",
       "      <td>2020</td>\n",
       "      <td>新华社北京5月29日电　　政府工作报告　　——2020年5月22日在第十三届全国人民代表...</td>\n",
       "    </tr>\n",
       "    <tr>\n",
       "      <th>2</th>\n",
       "      <td>2019</td>\n",
       "      <td>新华社北京3月16日电　　 政府工作报告　　——2019年3月5日在第十三届全国人民代表...</td>\n",
       "    </tr>\n",
       "    <tr>\n",
       "      <th>3</th>\n",
       "      <td>2018</td>\n",
       "      <td>各位代表：　　现在，我代表国务院，向大会报告过去五年政府工作，对今年工作提出建议，请予审...</td>\n",
       "    </tr>\n",
       "    <tr>\n",
       "      <th>4</th>\n",
       "      <td>2017</td>\n",
       "      <td>各位代表：　　现在，我代表国务院，向大会报告政府工作，请予审议，并请全国政协各位委员提出...</td>\n",
       "    </tr>\n",
       "    <tr>\n",
       "      <th>5</th>\n",
       "      <td>2016</td>\n",
       "      <td>政府工作报告</td>\n",
       "    </tr>\n",
       "    <tr>\n",
       "      <th>6</th>\n",
       "      <td>2015</td>\n",
       "      <td>国务院总理 李克强　　各位代表：　　现在，我代表国务院，向大会报告政府工作，请予审议，并...</td>\n",
       "    </tr>\n",
       "    <tr>\n",
       "      <th>7</th>\n",
       "      <td>2014</td>\n",
       "      <td>3月5日，李克强代表国务院在十二届全国人大二次会议上作《政府工作报告》。 新华社记者姚大...</td>\n",
       "    </tr>\n",
       "    <tr>\n",
       "      <th>8</th>\n",
       "      <td>2013</td>\n",
       "      <td>各位代表：　　现在，我代表国务院，向大会报告过去五年的政府工作，并对今年工作提出建议，请...</td>\n",
       "    </tr>\n",
       "    <tr>\n",
       "      <th>9</th>\n",
       "      <td>2012</td>\n",
       "      <td>3月5日，国务院总理温家宝在第十一届全国人民代表大会第五次会议上作政府工作报告。记者 李...</td>\n",
       "    </tr>\n",
       "    <tr>\n",
       "      <th>10</th>\n",
       "      <td>2011</td>\n",
       "      <td>政府工作报告</td>\n",
       "    </tr>\n",
       "    <tr>\n",
       "      <th>11</th>\n",
       "      <td>2010</td>\n",
       "      <td>政府工作报告</td>\n",
       "    </tr>\n",
       "    <tr>\n",
       "      <th>12</th>\n",
       "      <td>2009</td>\n",
       "      <td>各位代表：　　现在，我代表国务院，向大会作政府工作报告，请予审议，并请全国政协各位委员提...</td>\n",
       "    </tr>\n",
       "    <tr>\n",
       "      <th>13</th>\n",
       "      <td>2008</td>\n",
       "      <td>各位代表：　　现在，我代表国务院，向大会报告本届政府过去五年的工作，对今年工作提出建议，请予...</td>\n",
       "    </tr>\n",
       "    <tr>\n",
       "      <th>14</th>\n",
       "      <td>2007</td>\n",
       "      <td>政府工作报告　  ——2007年3月5日在第十届全国人民代表大会第五次会议上国务院总理　温家...</td>\n",
       "    </tr>\n",
       "    <tr>\n",
       "      <th>15</th>\n",
       "      <td>2006</td>\n",
       "      <td>2006年政 府 工 作 报 告</td>\n",
       "    </tr>\n",
       "    <tr>\n",
       "      <th>16</th>\n",
       "      <td>2005</td>\n",
       "      <td>2005年政府工作报告</td>\n",
       "    </tr>\n",
       "    <tr>\n",
       "      <th>17</th>\n",
       "      <td>2004</td>\n",
       "      <td>2004年政府工作报告——2004年3月5日在第十届全国人民代表大会第二次会议上</td>\n",
       "    </tr>\n",
       "    <tr>\n",
       "      <th>18</th>\n",
       "      <td>2003</td>\n",
       "      <td>2003年政府工作报告</td>\n",
       "    </tr>\n",
       "    <tr>\n",
       "      <th>19</th>\n",
       "      <td>2002</td>\n",
       "      <td>2002年政府工作报告　　——2002年3月5日在第九届全国人民代表大会第五次会议上</td>\n",
       "    </tr>\n",
       "    <tr>\n",
       "      <th>20</th>\n",
       "      <td>2001</td>\n",
       "      <td>2001年政府工作报告——2001年3月5日在第九届全国人民代表大会第四次会议上</td>\n",
       "    </tr>\n",
       "    <tr>\n",
       "      <th>21</th>\n",
       "      <td>2000</td>\n",
       "      <td>2000年政府工作报告——2000年3月5日在第九届全国人民代表大会第三次会议上　　　　　　...</td>\n",
       "    </tr>\n",
       "    <tr>\n",
       "      <th>22</th>\n",
       "      <td>1999</td>\n",
       "      <td>1999年政府工作报告——1999年3月5日在第九届全国人民代表大会第二次会议上　　　　　　...</td>\n",
       "    </tr>\n",
       "    <tr>\n",
       "      <th>23</th>\n",
       "      <td>1998</td>\n",
       "      <td>1998年政府工作报告　　——1 9 9 8 年3 月5 日在第九届全国人民代表大会第一次会...</td>\n",
       "    </tr>\n",
       "    <tr>\n",
       "      <th>24</th>\n",
       "      <td>1997</td>\n",
       "      <td>1997年政府工作报告</td>\n",
       "    </tr>\n",
       "    <tr>\n",
       "      <th>25</th>\n",
       "      <td>1996</td>\n",
       "      <td>1996年政府工作报告关于国民经济和社会发展“九五”计划和２０１０年远景目标纲要的报告——...</td>\n",
       "    </tr>\n",
       "    <tr>\n",
       "      <th>26</th>\n",
       "      <td>1995</td>\n",
       "      <td>1995年政府工作报告——1995年3月5日在第八届全国人民代表大会第三次会议上　　　　　　...</td>\n",
       "    </tr>\n",
       "    <tr>\n",
       "      <th>27</th>\n",
       "      <td>1994</td>\n",
       "      <td>1994年政府工作报告——1994年3月10日在第八届全国人民代表大会第二次会议上　　　　...</td>\n",
       "    </tr>\n",
       "    <tr>\n",
       "      <th>28</th>\n",
       "      <td>1993</td>\n",
       "      <td>1993年政府工作报告——１９９３年３月１５日在第八届全国人民代表大会第一次会议上　　　　　...</td>\n",
       "    </tr>\n",
       "    <tr>\n",
       "      <th>29</th>\n",
       "      <td>1992</td>\n",
       "      <td>1992年政府工作报告　　——１９９２年３月２０日在第七届全国人民代表大会第五次会议上　　　...</td>\n",
       "    </tr>\n",
       "    <tr>\n",
       "      <th>30</th>\n",
       "      <td>1991</td>\n",
       "      <td>1991年政府工作报告关于１９９０年国民经济和社会发展计划执行情况与１９９１年计划草案的报...</td>\n",
       "    </tr>\n",
       "    <tr>\n",
       "      <th>31</th>\n",
       "      <td>1990</td>\n",
       "      <td>1990年政府工作报告为我国政治经济和社会的进一步稳定发展而奋斗　　——１９９０年３月２０...</td>\n",
       "    </tr>\n",
       "    <tr>\n",
       "      <th>32</th>\n",
       "      <td>1989</td>\n",
       "      <td>1989年政府工作报告坚决贯彻治理整顿和深化改革的方针——１９８９年３月２０日在第七届全国人...</td>\n",
       "    </tr>\n",
       "    <tr>\n",
       "      <th>33</th>\n",
       "      <td>1988</td>\n",
       "      <td>1988年政府工作报告</td>\n",
       "    </tr>\n",
       "    <tr>\n",
       "      <th>34</th>\n",
       "      <td>1987</td>\n",
       "      <td>1987年政府工作报告——１９８７年３月２５日在第六届全国人民代表大会第五次会议上　　　　　...</td>\n",
       "    </tr>\n",
       "    <tr>\n",
       "      <th>35</th>\n",
       "      <td>1986</td>\n",
       "      <td>1986年政府工作报告关于第七个五年计划的报告——1986年3月25日在第六届全国人民代表...</td>\n",
       "    </tr>\n",
       "    <tr>\n",
       "      <th>36</th>\n",
       "      <td>1985</td>\n",
       "      <td>1985年政府工作报告当前的经济形势和经济体制改革——1985年3月27日在第六届全国人民代...</td>\n",
       "    </tr>\n",
       "    <tr>\n",
       "      <th>37</th>\n",
       "      <td>1984</td>\n",
       "      <td>1984年政府工作报告－－1984年5月15日在第六届全国人民代表大会第二次会议上　　　　　...</td>\n",
       "    </tr>\n",
       "    <tr>\n",
       "      <th>38</th>\n",
       "      <td>1983</td>\n",
       "      <td>1983年政府工作报告——1983年6月6日在第六届全国人民代表大会第一次会议上　　　　　　...</td>\n",
       "    </tr>\n",
       "    <tr>\n",
       "      <th>39</th>\n",
       "      <td>1982</td>\n",
       "      <td>1982年国务院政府工作报告 关于第六个五年计划的报告——1982年11月30日在第五届全国...</td>\n",
       "    </tr>\n",
       "    <tr>\n",
       "      <th>40</th>\n",
       "      <td>1981</td>\n",
       "      <td>1981年政府工作报告　　当前的经济形势和今后经济建设的方针——1981年11月30日和12...</td>\n",
       "    </tr>\n",
       "    <tr>\n",
       "      <th>41</th>\n",
       "      <td>1980</td>\n",
       "      <td>1980年政府工作报告关于１９８０、１９８１年国民经济计划安排的报告——１９８０年８月３０...</td>\n",
       "    </tr>\n",
       "    <tr>\n",
       "      <th>42</th>\n",
       "      <td>1979</td>\n",
       "      <td>1979年政府工作报告——1979年6月18日在第五届全国人民代表大会第二次会议上　　　　　...</td>\n",
       "    </tr>\n",
       "    <tr>\n",
       "      <th>43</th>\n",
       "      <td>1978</td>\n",
       "      <td>1978年政府工作报告团结起来，为建设社会主义的现代化强国而奋斗　　——1978年2月26日...</td>\n",
       "    </tr>\n",
       "    <tr>\n",
       "      <th>44</th>\n",
       "      <td>1975</td>\n",
       "      <td>1975年国务院政府工作报告——1975年1月13日在第四届全国人民代表大会第一次会议上　...</td>\n",
       "    </tr>\n",
       "    <tr>\n",
       "      <th>45</th>\n",
       "      <td>1964</td>\n",
       "      <td>1964年国务院政府工作报告（摘要）——１９６４年１２月２１日和２２日在第三届全国人民代表大...</td>\n",
       "    </tr>\n",
       "    <tr>\n",
       "      <th>46</th>\n",
       "      <td>1959</td>\n",
       "      <td>NaN</td>\n",
       "    </tr>\n",
       "    <tr>\n",
       "      <th>47</th>\n",
       "      <td>1960</td>\n",
       "      <td>1960年政府工作报告　  为提前实现全国农业发展纲要而奋斗——1960年4月6日在第二届...</td>\n",
       "    </tr>\n",
       "    <tr>\n",
       "      <th>48</th>\n",
       "      <td>1957</td>\n",
       "      <td>1957年国务院政府工作报告——1957年6月26日在第一届全国人民代表大会第四次会议上　　...</td>\n",
       "    </tr>\n",
       "    <tr>\n",
       "      <th>49</th>\n",
       "      <td>1956</td>\n",
       "      <td>1956年国务院政府工作报告关于1955年国家决算和1956年国家预算的报告——１９５６年６...</td>\n",
       "    </tr>\n",
       "    <tr>\n",
       "      <th>50</th>\n",
       "      <td>1955</td>\n",
       "      <td>1955年国务院政府工作报告关于发展国民经济的第一个五年计划的报告 ——1955年7月5日至...</td>\n",
       "    </tr>\n",
       "    <tr>\n",
       "      <th>51</th>\n",
       "      <td>1954</td>\n",
       "      <td>1954年政府工作报告——1954年5月23日在中华人民共和国第一届全国人民代表大会第一次会...</td>\n",
       "    </tr>\n",
       "  </tbody>\n",
       "</table>\n",
       "</div>"
      ],
      "text/plain": [
       "    year                                             report\n",
       "0   2021  各位代表：　　现在，我代表国务院，向大会报告政府工作，请予审议，并请全国政协委员提出意见。　...\n",
       "1   2020  　　新华社北京5月29日电　　政府工作报告　　——2020年5月22日在第十三届全国人民代表...\n",
       "2   2019  　　新华社北京3月16日电　　 政府工作报告　　——2019年3月5日在第十三届全国人民代表...\n",
       "3   2018  　　各位代表：　　现在，我代表国务院，向大会报告过去五年政府工作，对今年工作提出建议，请予审...\n",
       "4   2017  　　各位代表：　　现在，我代表国务院，向大会报告政府工作，请予审议，并请全国政协各位委员提出...\n",
       "5   2016                                             政府工作报告\n",
       "6   2015  　　国务院总理 李克强　　各位代表：　　现在，我代表国务院，向大会报告政府工作，请予审议，并...\n",
       "7   2014  　　3月5日，李克强代表国务院在十二届全国人大二次会议上作《政府工作报告》。 新华社记者姚大...\n",
       "8   2013  　　各位代表：　　现在，我代表国务院，向大会报告过去五年的政府工作，并对今年工作提出建议，请...\n",
       "9   2012  　　3月5日，国务院总理温家宝在第十一届全国人民代表大会第五次会议上作政府工作报告。记者 李...\n",
       "10  2011                                             政府工作报告\n",
       "11  2010                                             政府工作报告\n",
       "12  2009  　　各位代表：　　现在，我代表国务院，向大会作政府工作报告，请予审议，并请全国政协各位委员提...\n",
       "13  2008  各位代表：　　现在，我代表国务院，向大会报告本届政府过去五年的工作，对今年工作提出建议，请予...\n",
       "14  2007  政府工作报告　  ——2007年3月5日在第十届全国人民代表大会第五次会议上国务院总理　温家...\n",
       "15  2006                                   2006年政 府 工 作 报 告\n",
       "16  2005                                        2005年政府工作报告\n",
       "17  2004           2004年政府工作报告——2004年3月5日在第十届全国人民代表大会第二次会议上\n",
       "18  2003                                        2003年政府工作报告\n",
       "19  2002         2002年政府工作报告　　——2002年3月5日在第九届全国人民代表大会第五次会议上\n",
       "20  2001           2001年政府工作报告——2001年3月5日在第九届全国人民代表大会第四次会议上\n",
       "21  2000  2000年政府工作报告——2000年3月5日在第九届全国人民代表大会第三次会议上　　　　　　...\n",
       "22  1999  1999年政府工作报告——1999年3月5日在第九届全国人民代表大会第二次会议上　　　　　　...\n",
       "23  1998  1998年政府工作报告　　——1 9 9 8 年3 月5 日在第九届全国人民代表大会第一次会...\n",
       "24  1997                                        1997年政府工作报告\n",
       "25  1996   1996年政府工作报告关于国民经济和社会发展“九五”计划和２０１０年远景目标纲要的报告——...\n",
       "26  1995  1995年政府工作报告——1995年3月5日在第八届全国人民代表大会第三次会议上　　　　　　...\n",
       "27  1994   1994年政府工作报告——1994年3月10日在第八届全国人民代表大会第二次会议上　　　　...\n",
       "28  1993  1993年政府工作报告——１９９３年３月１５日在第八届全国人民代表大会第一次会议上　　　　　...\n",
       "29  1992  1992年政府工作报告　　——１９９２年３月２０日在第七届全国人民代表大会第五次会议上　　　...\n",
       "30  1991   1991年政府工作报告关于１９９０年国民经济和社会发展计划执行情况与１９９１年计划草案的报...\n",
       "31  1990   1990年政府工作报告为我国政治经济和社会的进一步稳定发展而奋斗　　——１９９０年３月２０...\n",
       "32  1989  1989年政府工作报告坚决贯彻治理整顿和深化改革的方针——１９８９年３月２０日在第七届全国人...\n",
       "33  1988                                        1988年政府工作报告\n",
       "34  1987  1987年政府工作报告——１９８７年３月２５日在第六届全国人民代表大会第五次会议上　　　　　...\n",
       "35  1986   1986年政府工作报告关于第七个五年计划的报告——1986年3月25日在第六届全国人民代表...\n",
       "36  1985  1985年政府工作报告当前的经济形势和经济体制改革——1985年3月27日在第六届全国人民代...\n",
       "37  1984  1984年政府工作报告－－1984年5月15日在第六届全国人民代表大会第二次会议上　　　　　...\n",
       "38  1983  1983年政府工作报告——1983年6月6日在第六届全国人民代表大会第一次会议上　　　　　　...\n",
       "39  1982  1982年国务院政府工作报告 关于第六个五年计划的报告——1982年11月30日在第五届全国...\n",
       "40  1981  1981年政府工作报告　　当前的经济形势和今后经济建设的方针——1981年11月30日和12...\n",
       "41  1980   1980年政府工作报告关于１９８０、１９８１年国民经济计划安排的报告——１９８０年８月３０...\n",
       "42  1979  1979年政府工作报告——1979年6月18日在第五届全国人民代表大会第二次会议上　　　　　...\n",
       "43  1978  1978年政府工作报告团结起来，为建设社会主义的现代化强国而奋斗　　——1978年2月26日...\n",
       "44  1975   1975年国务院政府工作报告——1975年1月13日在第四届全国人民代表大会第一次会议上　...\n",
       "45  1964  1964年国务院政府工作报告（摘要）——１９６４年１２月２１日和２２日在第三届全国人民代表大...\n",
       "46  1959                                                NaN\n",
       "47  1960  　1960年政府工作报告　  为提前实现全国农业发展纲要而奋斗——1960年4月6日在第二届...\n",
       "48  1957  1957年国务院政府工作报告——1957年6月26日在第一届全国人民代表大会第四次会议上　　...\n",
       "49  1956  1956年国务院政府工作报告关于1955年国家决算和1956年国家预算的报告——１９５６年６...\n",
       "50  1955  1955年国务院政府工作报告关于发展国民经济的第一个五年计划的报告 ——1955年7月5日至...\n",
       "51  1954  1954年政府工作报告——1954年5月23日在中华人民共和国第一届全国人民代表大会第一次会..."
      ]
     },
     "execution_count": 30,
     "metadata": {},
     "output_type": "execute_result"
    }
   ],
   "source": [
    "df[:53]"
   ]
  },
  {
   "cell_type": "code",
   "execution_count": null,
   "id": "d6fe4f09",
   "metadata": {},
   "outputs": [],
   "source": []
  }
 ],
 "metadata": {
  "kernelspec": {
   "display_name": "Python 3",
   "language": "python",
   "name": "python3"
  },
  "language_info": {
   "codemirror_mode": {
    "name": "ipython",
    "version": 3
   },
   "file_extension": ".py",
   "mimetype": "text/x-python",
   "name": "python",
   "nbconvert_exporter": "python",
   "pygments_lexer": "ipython3",
   "version": "3.8.8"
  }
 },
 "nbformat": 4,
 "nbformat_minor": 5
}
